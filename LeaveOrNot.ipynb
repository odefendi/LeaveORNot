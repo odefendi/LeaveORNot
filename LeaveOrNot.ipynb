{
  "nbformat": 4,
  "nbformat_minor": 0,
  "metadata": {
    "colab": {
      "provenance": [],
      "gpuType": "T4",
      "authorship_tag": "ABX9TyMwHsColwEtOfVFjn0L35nA",
      "include_colab_link": true
    },
    "kernelspec": {
      "name": "python3",
      "display_name": "Python 3"
    },
    "language_info": {
      "name": "python"
    },
    "accelerator": "GPU"
  },
  "cells": [
    {
      "cell_type": "markdown",
      "metadata": {
        "id": "view-in-github",
        "colab_type": "text"
      },
      "source": [
        "<a href=\"https://colab.research.google.com/github/odefendi/LeaveORNot/blob/main/LeaveOrNot.ipynb\" target=\"_parent\"><img src=\"https://colab.research.google.com/assets/colab-badge.svg\" alt=\"Open In Colab\"/></a>"
      ]
    },
    {
      "cell_type": "code",
      "source": [
        "import pandas as pd\n",
        "from sklearn.preprocessing import LabelEncoder\n",
        "from sklearn.model_selection import train_test_split\n",
        "from sklearn.linear_model import LogisticRegression\n",
        "from sklearn.metrics import confusion_matrix, accuracy_score, recall_score, precision_score, f1_score\n",
        "import seaborn as sns\n",
        "import matplotlib.pyplot as plt"
      ],
      "metadata": {
        "id": "ACb_dQvLUz37"
      },
      "execution_count": 1,
      "outputs": []
    },
    {
      "cell_type": "code",
      "source": [
        "df = pd.read_csv('Employee.csv')"
      ],
      "metadata": {
        "id": "ozNj29WEfTUH"
      },
      "execution_count": 3,
      "outputs": []
    },
    {
      "cell_type": "code",
      "source": [
        "categorical_cols = ['Education', 'City', 'Gender', 'EverBenched']\n",
        "for col in categorical_cols:\n",
        "  df[col] = LabelEncoder().fit_transform(df[col])\n",
        "\n",
        "X = df[['Education',\n",
        "        'JoiningYear',\n",
        "        'City',\n",
        "        'PaymentTier',\n",
        "        'Age',\n",
        "        'Gender',\n",
        "        'EverBenched',\n",
        "        'ExperienceInCurrentDomain']]\n",
        "y = LabelEncoder().fit_transform(df['LeaveOrNot'])"
      ],
      "metadata": {
        "id": "lJNtvhtofffc"
      },
      "execution_count": 6,
      "outputs": []
    },
    {
      "cell_type": "code",
      "source": [
        "X_train, X_test, y_train, y_test = train_test_split(\n",
        "    X, y, test_size=0.2, random_state=42\n",
        ")"
      ],
      "metadata": {
        "id": "J39SE6JkgemO"
      },
      "execution_count": 7,
      "outputs": []
    },
    {
      "cell_type": "code",
      "source": [
        "model = LogisticRegression(max_iter=1000, random_state=42)\n",
        "model.fit(X_train, y_train)\n",
        "\n",
        "y_pred = model.predict(X_test)"
      ],
      "metadata": {
        "id": "SJfwIauUgzg5"
      },
      "execution_count": 8,
      "outputs": []
    },
    {
      "cell_type": "code",
      "source": [
        "cm = confusion_matrix(y_test, y_pred)\n",
        "vn, fp, fn, vp = cm.ravel()\n",
        "\n",
        "acuracia = accuracy_score(y_test, y_pred)\n",
        "sensibilidade = recall_score(y_test, y_pred)\n",
        "precisao = precision_score(y_test, y_pred)\n",
        "f1 = f1_score(y_test, y_pred)\n",
        "especificidade = vn / (vn + fp)\n",
        "\n",
        "print(\"Matriz de Confusão:\\n\", cm)\n",
        "print(f\"Acurácia:       {acuracia:.2f}\")\n",
        "print(f\"Sensibilidade:  {sensibilidade:.2f}\")\n",
        "print(f\"Precisão:       {precisao:.2f}\")\n",
        "print(f\"Especifidade:   {especificidade:.2f}\")\n",
        "print(f\"F-Score:        {f1:.2f}\")"
      ],
      "metadata": {
        "colab": {
          "base_uri": "https://localhost:8080/"
        },
        "id": "Lt5aLjj_g_cH",
        "outputId": "1e044276-3894-4af2-b75c-6be8131476a0"
      },
      "execution_count": 12,
      "outputs": [
        {
          "output_type": "stream",
          "name": "stdout",
          "text": [
            "Matriz de Confusão:\n",
            " [[124  17]\n",
            " [ 40  19]]\n",
            "Acurácia:       0.71\n",
            "Sensibilidade:  0.32\n",
            "Precisão:       0.53\n",
            "Especifidade:   0.88\n",
            "F-Score:        0.40\n"
          ]
        }
      ]
    },
    {
      "cell_type": "code",
      "source": [
        "plt.figure(figsize=(6,4))\n",
        "sns.heatmap(\n",
        "    cm, annot=True, fmt='d', cmap='Blues',\n",
        "    xticklabels=['Ficou', 'Saiu'],\n",
        "    yticklabels=['Ficou', 'Saiu']\n",
        ")\n",
        "plt.xlabel('Previsto')\n",
        "plt.ylabel('Real')\n",
        "plt.title('Matriz de Confusão - Regressão Logistica')\n",
        "plt.show()"
      ],
      "metadata": {
        "colab": {
          "base_uri": "https://localhost:8080/",
          "height": 410
        },
        "id": "G5e2rJ9fj7tC",
        "outputId": "fd2a44b7-ea2f-4f2c-e545-f63dd20a5b13"
      },
      "execution_count": 13,
      "outputs": [
        {
          "output_type": "display_data",
          "data": {
            "text/plain": [
              "<Figure size 600x400 with 2 Axes>"
            ],
            "image/png": "[encoded data removed]"
          },
          "metadata": {}
        }
      ]
    }
  ]
}